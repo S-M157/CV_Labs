{
  "cells": [
    {
      "cell_type": "markdown",
      "metadata": {
        "id": "MO6pYRiSQPUk"
      },
      "source": [
        "* Побудувати CNN на основі ResNet-50 для класифікації зображень на основі датасету fashion-mnist.\n",
        "\n",
        "* Зробити налаштування моделі для досягнення необхідної точності. \n",
        "\n",
        "* На базі Siamese networks побудувати систему для пошуку подібних зображень в\n",
        "датасеті fashion-mnist. \n",
        "\n",
        "* Візуалізувати отримані результати t-SNE."
      ]
    },
    {
      "cell_type": "markdown",
      "metadata": {
        "id": "1cZBuEJjY-f2"
      },
      "source": [
        "# Preprocessing"
      ]
    },
    {
      "cell_type": "code",
      "execution_count": 1,
      "metadata": {
        "colab": {
          "base_uri": "https://localhost:8080/"
        },
        "id": "grXTHDiFcOsw",
        "outputId": "61515f38-5f6b-4a91-fbea-c2b5e35d879e"
      },
      "outputs": [
        {
          "output_type": "stream",
          "name": "stdout",
          "text": [
            "Downloading data from https://storage.googleapis.com/tensorflow/tf-keras-datasets/train-labels-idx1-ubyte.gz\n",
            "32768/29515 [=================================] - 0s 0us/step\n",
            "40960/29515 [=========================================] - 0s 0us/step\n",
            "Downloading data from https://storage.googleapis.com/tensorflow/tf-keras-datasets/train-images-idx3-ubyte.gz\n",
            "26427392/26421880 [==============================] - 0s 0us/step\n",
            "26435584/26421880 [==============================] - 0s 0us/step\n",
            "Downloading data from https://storage.googleapis.com/tensorflow/tf-keras-datasets/t10k-labels-idx1-ubyte.gz\n",
            "16384/5148 [===============================================================================================] - 0s 0us/step\n",
            "Downloading data from https://storage.googleapis.com/tensorflow/tf-keras-datasets/t10k-images-idx3-ubyte.gz\n",
            "4423680/4422102 [==============================] - 0s 0us/step\n",
            "4431872/4422102 [==============================] - 0s 0us/step\n"
          ]
        }
      ],
      "source": [
        "import tensorflow_datasets as tfds\n",
        "import tensorflow as tf\n",
        "import numpy as np\n",
        "\n",
        "fashion_mnist = tf.keras.datasets.fashion_mnist\n",
        "(train_images, train_labels), (test_images, test_labels) = fashion_mnist.load_data()"
      ]
    },
    {
      "cell_type": "code",
      "execution_count": 2,
      "metadata": {
        "id": "xIEgDhC35Lbg"
      },
      "outputs": [],
      "source": [
        "tf.config.run_functions_eagerly(True)"
      ]
    },
    {
      "cell_type": "code",
      "execution_count": 3,
      "metadata": {
        "id": "GJ5K0qgTcTla"
      },
      "outputs": [],
      "source": [
        "img_shape =  np.concatenate((test_images.shape[1:], [1]))\n",
        "CLASSES = len(np.unique(test_labels))\n",
        "EPOCH=17\n",
        "BS = 128\n",
        "\n",
        "train_images = train_images / 255.0\n",
        "test_images = test_images / 255.0"
      ]
    },
    {
      "cell_type": "code",
      "execution_count": 12,
      "metadata": {
        "id": "60oA0kl12RNX"
      },
      "outputs": [],
      "source": [
        "import random\n",
        "\n",
        "def create_pairs(x, digit_indices):\n",
        "    '''\n",
        "    Positive and negative pair creation.\n",
        "    Alternates between positive and negative pairs.\n",
        "    '''\n",
        "    pairs = []\n",
        "    labels = []\n",
        "    n = min([len(digit_indices[d]) for d in range(CLASSES)]) - 1\n",
        "    for d in range(CLASSES):\n",
        "        for i in range(n):\n",
        "            z1, z2 = digit_indices[d][i], digit_indices[d][i + 1]\n",
        "            pairs += [[x[z1], x[z2]]]\n",
        "            inc = random.randrange(1, CLASSES)\n",
        "            dn = (d + inc) % CLASSES\n",
        "            z1, z2 = digit_indices[d][i], digit_indices[dn][i]\n",
        "            pairs += [[x[z1], x[z2]]]\n",
        "            labels += [1, 0]\n",
        "    return np.array(pairs), np.array(labels)\n",
        "\n",
        "def make_pair_dataset(images, labels):\n",
        "    digit_indices = [np.where(labels == i)[0] for i in range(CLASSES)]\n",
        "    pairs, y = create_pairs(images, digit_indices)\n",
        "    return pairs, y"
      ]
    },
    {
      "cell_type": "code",
      "execution_count": 13,
      "metadata": {
        "id": "-kDHEfEq3ur8"
      },
      "outputs": [],
      "source": [
        "tr_pairs, tr_y = make_pair_dataset(train_images, train_labels)\n",
        "te_pairs, te_y = make_pair_dataset(test_images, test_labels)\n"
      ]
    },
    {
      "cell_type": "code",
      "execution_count": 14,
      "metadata": {
        "id": "B1VcP-9U4PZE"
      },
      "outputs": [],
      "source": [
        "from sklearn.model_selection import train_test_split\n",
        "\n",
        "tr_y = tr_y.astype(np.float32)\n",
        "te_y = te_y.astype(np.float32)\n",
        "\n",
        "x_tra, x_val, y_tra, y_val = train_test_split(tr_pairs, tr_y, test_size=0.2, stratify=tr_y, random_state=21)"
      ]
    },
    {
      "cell_type": "markdown",
      "source": [
        "# Define Feature Model"
      ],
      "metadata": {
        "id": "D0r55SQNFAQS"
      }
    },
    {
      "cell_type": "code",
      "execution_count": 4,
      "metadata": {
        "id": "RGTE3ePJc8Nb"
      },
      "outputs": [],
      "source": [
        "def res_identity(x, filters): \n",
        "  #renet block where dimension doesnot change.\n",
        "  #The skip connection is just simple identity conncection\n",
        "  #we will have 3 blocks and then input will be added\n",
        "\n",
        "  x_skip = x # this will be used for addition with the residual block \n",
        "  f1, f2 = filters\n",
        "\n",
        "  #first block \n",
        "  x = tf.keras.layers.Conv2D(f1, kernel_size=(1, 1), strides=(1, 1), padding='valid')(x)\n",
        "  x = tf.keras.layers.BatchNormalization()(x)\n",
        "  x = tf.keras.layers.Activation(tf.keras.activations.relu)(x)\n",
        "\n",
        "  #second block # bottleneck (but size kept same with padding)\n",
        "  x = tf.keras.layers.Conv2D(f1, kernel_size=(3, 3), strides=(1, 1), padding='same')(x)\n",
        "  x = tf.keras.layers.BatchNormalization()(x)\n",
        "  x = tf.keras.layers.Activation(tf.keras.activations.relu)(x)\n",
        "\n",
        "  # third block activation used after adding the input\n",
        "  x = tf.keras.layers.Conv2D(f2, kernel_size=(1, 1), strides=(1, 1), padding='valid')(x)\n",
        "  x = tf.keras.layers.BatchNormalization()(x)\n",
        "  # x = Activation(activations.relu)(x)\n",
        "\n",
        "  # add the input \n",
        "  x = tf.keras.layers.Add()([x, x_skip])\n",
        "  x = tf.keras.layers.Activation(tf.keras.activations.relu)(x)\n",
        "\n",
        "  return x"
      ]
    },
    {
      "cell_type": "code",
      "execution_count": 5,
      "metadata": {
        "id": "pKmrgxC4c-2o"
      },
      "outputs": [],
      "source": [
        "def res_conv(x, s, filters):\n",
        "  '''\n",
        "  here the input size changes''' \n",
        "  x_skip = x\n",
        "  f1, f2 = filters\n",
        "\n",
        "  # first block\n",
        "  x = tf.keras.layers.Conv2D(f1, kernel_size=(1, 1), strides=(s, s), padding='valid')(x)\n",
        "  # when s = 2 then it is like downsizing the feature map\n",
        "  x = tf.keras.layers.BatchNormalization()(x)\n",
        "  x = tf.keras.layers.Activation(tf.keras.activations.relu)(x)\n",
        "\n",
        "  # second block\n",
        "  x = tf.keras.layers.Conv2D(f1, kernel_size=(3, 3), strides=(1, 1), padding='same')(x)\n",
        "  x = tf.keras.layers.BatchNormalization()(x)\n",
        "  x = tf.keras.layers.Activation(tf.keras.activations.relu)(x)\n",
        "\n",
        "  #third block\n",
        "  x = tf.keras.layers.Conv2D(f2, kernel_size=(1, 1), strides=(1, 1), padding='valid')(x)\n",
        "  x = tf.keras.layers.BatchNormalization()(x)\n",
        "\n",
        "  # shortcut \n",
        "  x_skip = tf.keras.layers.Conv2D(f2, kernel_size=(1, 1), strides=(s, s), padding='valid')(x_skip)\n",
        "  x_skip = tf.keras.layers.BatchNormalization()(x_skip)\n",
        "\n",
        "  # add \n",
        "  x = tf.keras.layers.Add()([x, x_skip])\n",
        "  x = tf.keras.layers.Activation(tf.keras.activations.relu)(x)\n",
        "\n",
        "  return x"
      ]
    },
    {
      "cell_type": "code",
      "execution_count": 6,
      "metadata": {
        "id": "Ta8HygTzdBlr"
      },
      "outputs": [],
      "source": [
        "def Resnet50():\n",
        "\n",
        "  input_im = tf.keras.layers.Input(shape=img_shape)\n",
        "  x = tf.keras.layers.ZeroPadding2D(padding=(3, 3))(input_im)\n",
        "\n",
        "  # 1st stage\n",
        "  # here we perform maxpooling, see the figure above\n",
        "\n",
        "  x = tf.keras.layers.Conv2D(64, kernel_size=(7, 7), strides=(2, 2))(x)\n",
        "  x = tf.keras.layers.BatchNormalization()(x)\n",
        "  x = tf.keras.layers.Activation(tf.keras.activations.relu)(x)\n",
        "  x = tf.keras.layers.MaxPooling2D((3, 3), strides=(2, 2))(x)\n",
        "\n",
        "  #2nd stage \n",
        "  # frm here on only conv block and identity block, no pooling\n",
        "\n",
        "  x = res_conv(x, s=1, filters=(64, 256))\n",
        "  x = res_identity(x, filters=(64, 256))\n",
        "  x = res_identity(x, filters=(64, 256))\n",
        "\n",
        "  # 3rd stage\n",
        "\n",
        "  x = res_conv(x, s=2, filters=(128, 512))\n",
        "  x = res_identity(x, filters=(128, 512))\n",
        "  x = res_identity(x, filters=(128, 512))\n",
        "  x = res_identity(x, filters=(128, 512))\n",
        "\n",
        "  # 4th stage\n",
        "\n",
        "  x = res_conv(x, s=2, filters=(256, 1024))\n",
        "  x = res_identity(x, filters=(256, 1024))\n",
        "  x = res_identity(x, filters=(256, 1024))\n",
        "  x = res_identity(x, filters=(256, 1024))\n",
        "  x = res_identity(x, filters=(256, 1024))\n",
        "  x = res_identity(x, filters=(256, 1024))\n",
        "\n",
        "  # 5th stage\n",
        "\n",
        "  x = res_conv(x, s=2, filters=(512, 2048))\n",
        "  x = res_identity(x, filters=(512, 2048))\n",
        "  x = res_identity(x, filters=(512, 2048))\n",
        "\n",
        "  # ends with average pooling and dense connection\n",
        "\n",
        "  x = tf.keras.layers.AveragePooling2D((2, 2), padding='same')(x)\n",
        "\n",
        "  x = tf.keras.layers.Flatten()(x)\n",
        "  x = tf.keras.layers.Dense(CLASSES, activation='softmax', kernel_initializer='he_normal')(x) #multi-class\n",
        "\n",
        "  # define the model \n",
        "\n",
        "  model = tf.keras.Model(inputs=input_im, outputs=x, name='Resnet50')\n",
        "\n",
        "  return model"
      ]
    },
    {
      "cell_type": "code",
      "execution_count": 7,
      "metadata": {
        "id": "IBP-gKv6gHc_"
      },
      "outputs": [],
      "source": [
        "feature_model = Resnet50()"
      ]
    },
    {
      "cell_type": "markdown",
      "source": [
        "# Define Siamese model"
      ],
      "metadata": {
        "id": "KapjOAYxFENc"
      }
    },
    {
      "cell_type": "code",
      "execution_count": 8,
      "metadata": {
        "id": "cw2QPlixudQ_"
      },
      "outputs": [],
      "source": [
        "img_a_in = tf.keras.layers.Input(shape =img_shape, name = 'ImageA_Input')\n",
        "img_b_in = tf.keras.layers.Input(shape =img_shape, name = 'ImageB_Input')\n",
        "img_a_feat = feature_model(img_a_in)\n",
        "img_b_feat = feature_model(img_b_in)\n",
        "combined_features = tf.keras.layers.concatenate([img_a_feat, img_b_feat], name='merge_features')\n",
        "combined_features = tf.keras.layers.Dense(16, activation = 'linear')(combined_features)\n",
        "combined_features = tf.keras.layers.BatchNormalization()(combined_features)\n",
        "combined_features = tf.keras.layers.Activation('relu')(combined_features)\n",
        "combined_features = tf.keras.layers.Dense(4, activation = 'linear')(combined_features)\n",
        "combined_features = tf.keras.layers.BatchNormalization()(combined_features)\n",
        "combined_features = tf.keras.layers.Activation('relu')(combined_features)\n",
        "combined_features = tf.keras.layers.Dense(1, activation = 'sigmoid')(combined_features)\n"
      ]
    },
    {
      "cell_type": "code",
      "execution_count": 9,
      "metadata": {
        "colab": {
          "base_uri": "https://localhost:8080/"
        },
        "id": "lgHVNwvnhfRC",
        "outputId": "e1bd1cf6-c4d1-41ab-f830-c3312a7eb0f6"
      },
      "outputs": [
        {
          "output_type": "stream",
          "name": "stdout",
          "text": [
            "Model: \"Similarity_Model\"\n",
            "__________________________________________________________________________________________________\n",
            " Layer (type)                   Output Shape         Param #     Connected to                     \n",
            "==================================================================================================\n",
            " ImageA_Input (InputLayer)      [(None, 28, 28, 1)]  0           []                               \n",
            "                                                                                                  \n",
            " ImageB_Input (InputLayer)      [(None, 28, 28, 1)]  0           []                               \n",
            "                                                                                                  \n",
            " Resnet50 (Functional)          (None, 10)           23601930    ['ImageA_Input[0][0]',           \n",
            "                                                                  'ImageB_Input[0][0]']           \n",
            "                                                                                                  \n",
            " merge_features (Concatenate)   (None, 20)           0           ['Resnet50[0][0]',               \n",
            "                                                                  'Resnet50[1][0]']               \n",
            "                                                                                                  \n",
            " dense_1 (Dense)                (None, 16)           336         ['merge_features[0][0]']         \n",
            "                                                                                                  \n",
            " batch_normalization_53 (BatchN  (None, 16)          64          ['dense_1[0][0]']                \n",
            " ormalization)                                                                                    \n",
            "                                                                                                  \n",
            " activation_49 (Activation)     (None, 16)           0           ['batch_normalization_53[0][0]'] \n",
            "                                                                                                  \n",
            " dense_2 (Dense)                (None, 4)            68          ['activation_49[0][0]']          \n",
            "                                                                                                  \n",
            " batch_normalization_54 (BatchN  (None, 4)           16          ['dense_2[0][0]']                \n",
            " ormalization)                                                                                    \n",
            "                                                                                                  \n",
            " activation_50 (Activation)     (None, 4)            0           ['batch_normalization_54[0][0]'] \n",
            "                                                                                                  \n",
            " dense_3 (Dense)                (None, 1)            5           ['activation_50[0][0]']          \n",
            "                                                                                                  \n",
            "==================================================================================================\n",
            "Total params: 23,602,419\n",
            "Trainable params: 23,549,259\n",
            "Non-trainable params: 53,160\n",
            "__________________________________________________________________________________________________\n"
          ]
        }
      ],
      "source": [
        "similarity_model = tf.keras.Model(inputs = [img_a_in, img_b_in], outputs=[combined_features], name = 'Similarity_Model')\n",
        "similarity_model.summary()"
      ]
    },
    {
      "cell_type": "markdown",
      "source": [
        "# Training"
      ],
      "metadata": {
        "id": "oW-GfVgFFZpk"
      }
    },
    {
      "cell_type": "code",
      "execution_count": 11,
      "metadata": {
        "id": "svh9FRTAgNSQ"
      },
      "outputs": [],
      "source": [
        "similarity_model.compile(optimizer=tf.keras.optimizers.Adam(learning_rate=1e-3),\n",
        "              loss='binary_crossentropy',\n",
        "              metrics=['mae'])"
      ]
    },
    {
      "cell_type": "code",
      "execution_count": 15,
      "metadata": {
        "id": "gHohPTPz-g-o"
      },
      "outputs": [],
      "source": [
        "early_stopping = tf.keras.callbacks.EarlyStopping(\n",
        "    monitor='val_loss',\n",
        "    min_delta=0,\n",
        "    patience=3,\n",
        "    verbose=0,\n",
        "    mode='auto',\n",
        "    baseline=None,\n",
        "    restore_best_weights=True\n",
        ")\n",
        "\n",
        "save_model = tf.keras.callbacks.ModelCheckpoint(\n",
        "    \"/content/drive/MyDrive/Classroom/similarity_model\",\n",
        "    monitor='val_loss',\n",
        "    verbose=0,\n",
        "    save_best_only=True,\n",
        "    save_weights_only=False,\n",
        ")\n",
        "reduce_lr = tf.keras.callbacks.ReduceLROnPlateau(monitor='val_loss', factor=0.2,\n",
        "                              patience=1, min_lr=0.0001)"
      ]
    },
    {
      "cell_type": "code",
      "execution_count": 16,
      "metadata": {
        "colab": {
          "base_uri": "https://localhost:8080/"
        },
        "id": "7cuJc3GxHdtN",
        "outputId": "daa16762-5faa-4d5b-e647-7adf4062a258"
      },
      "outputs": [
        {
          "output_type": "stream",
          "name": "stderr",
          "text": [
            "/usr/local/lib/python3.7/dist-packages/tensorflow/python/data/ops/structured_function.py:265: UserWarning: Even though the `tf.config.experimental_run_functions_eagerly` option is set, this option does not apply to tf.data functions. To force eager execution of tf.data functions, please use `tf.data.experimental.enable_debug_mode()`.\n",
            "  \"Even though the `tf.config.experimental_run_functions_eagerly` \"\n"
          ]
        },
        {
          "output_type": "stream",
          "name": "stdout",
          "text": [
            "Epoch 1/17\n",
            "750/750 [==============================] - ETA: 0s - loss: 0.6237 - mae: 0.4360"
          ]
        },
        {
          "output_type": "stream",
          "name": "stderr",
          "text": [
            "WARNING:absl:Function `_wrapped_model` contains input name(s) ImageA_Input, ImageB_Input with unsupported characters which will be renamed to imagea_input, imageb_input in the SavedModel.\n"
          ]
        },
        {
          "output_type": "stream",
          "name": "stdout",
          "text": [
            "INFO:tensorflow:Assets written to: /content/drive/MyDrive/Classroom/similarity_model/assets\n"
          ]
        },
        {
          "output_type": "stream",
          "name": "stderr",
          "text": [
            "INFO:tensorflow:Assets written to: /content/drive/MyDrive/Classroom/similarity_model/assets\n"
          ]
        },
        {
          "output_type": "stream",
          "name": "stdout",
          "text": [
            "\b\b\b\b\b\b\b\b\b\b\b\b\b\b\b\b\b\b\b\b\b\b\b\b\b\b\b\b\b\b\b\b\b\b\b\b\b\b\b\b\b\b\b\b\b\b\b\b\b\b\b\b\b\b\b\b\b\b\b\b\b\b\b\b\b\b\b\b\b\b\b\b\b\b\b\b\b\b\b\r750/750 [==============================] - 452s 589ms/step - loss: 0.6237 - mae: 0.4360 - val_loss: 0.5470 - val_mae: 0.3801 - lr: 0.0010\n",
            "Epoch 2/17\n",
            "750/750 [==============================] - 384s 512ms/step - loss: 0.5402 - mae: 0.3726 - val_loss: 1.0713 - val_mae: 0.4032 - lr: 0.0010\n",
            "Epoch 3/17\n",
            "750/750 [==============================] - ETA: 0s - loss: 0.4486 - mae: 0.3059"
          ]
        },
        {
          "output_type": "stream",
          "name": "stderr",
          "text": [
            "WARNING:absl:Function `_wrapped_model` contains input name(s) ImageA_Input, ImageB_Input with unsupported characters which will be renamed to imagea_input, imageb_input in the SavedModel.\n"
          ]
        },
        {
          "output_type": "stream",
          "name": "stdout",
          "text": [
            "INFO:tensorflow:Assets written to: /content/drive/MyDrive/Classroom/similarity_model/assets\n"
          ]
        },
        {
          "output_type": "stream",
          "name": "stderr",
          "text": [
            "INFO:tensorflow:Assets written to: /content/drive/MyDrive/Classroom/similarity_model/assets\n"
          ]
        },
        {
          "output_type": "stream",
          "name": "stdout",
          "text": [
            "\b\b\b\b\b\b\b\b\b\b\b\b\b\b\b\b\b\b\b\b\b\b\b\b\b\b\b\b\b\b\b\b\b\b\b\b\b\b\b\b\b\b\b\b\b\b\b\b\b\b\b\b\b\b\b\b\b\b\b\b\b\b\b\b\b\b\b\b\b\b\b\b\b\b\b\b\b\b\b\r750/750 [==============================] - 424s 565ms/step - loss: 0.4486 - mae: 0.3059 - val_loss: 0.4402 - val_mae: 0.3014 - lr: 2.0000e-04\n",
            "Epoch 4/17\n",
            "750/750 [==============================] - ETA: 0s - loss: 0.4383 - mae: 0.2994"
          ]
        },
        {
          "output_type": "stream",
          "name": "stderr",
          "text": [
            "WARNING:absl:Function `_wrapped_model` contains input name(s) ImageA_Input, ImageB_Input with unsupported characters which will be renamed to imagea_input, imageb_input in the SavedModel.\n"
          ]
        },
        {
          "output_type": "stream",
          "name": "stdout",
          "text": [
            "INFO:tensorflow:Assets written to: /content/drive/MyDrive/Classroom/similarity_model/assets\n"
          ]
        },
        {
          "output_type": "stream",
          "name": "stderr",
          "text": [
            "INFO:tensorflow:Assets written to: /content/drive/MyDrive/Classroom/similarity_model/assets\n"
          ]
        },
        {
          "output_type": "stream",
          "name": "stdout",
          "text": [
            "\b\b\b\b\b\b\b\b\b\b\b\b\b\b\b\b\b\b\b\b\b\b\b\b\b\b\b\b\b\b\b\b\b\b\b\b\b\b\b\b\b\b\b\b\b\b\b\b\b\b\b\b\b\b\b\b\b\b\b\b\b\b\b\b\b\b\b\b\b\b\b\b\b\b\b\b\b\b\b\r750/750 [==============================] - 435s 580ms/step - loss: 0.4383 - mae: 0.2994 - val_loss: 0.4318 - val_mae: 0.2953 - lr: 2.0000e-04\n",
            "Epoch 5/17\n",
            "750/750 [==============================] - ETA: 0s - loss: 0.4335 - mae: 0.2940"
          ]
        },
        {
          "output_type": "stream",
          "name": "stderr",
          "text": [
            "WARNING:absl:Function `_wrapped_model` contains input name(s) ImageA_Input, ImageB_Input with unsupported characters which will be renamed to imagea_input, imageb_input in the SavedModel.\n"
          ]
        },
        {
          "output_type": "stream",
          "name": "stdout",
          "text": [
            "INFO:tensorflow:Assets written to: /content/drive/MyDrive/Classroom/similarity_model/assets\n"
          ]
        },
        {
          "output_type": "stream",
          "name": "stderr",
          "text": [
            "INFO:tensorflow:Assets written to: /content/drive/MyDrive/Classroom/similarity_model/assets\n"
          ]
        },
        {
          "output_type": "stream",
          "name": "stdout",
          "text": [
            "\b\b\b\b\b\b\b\b\b\b\b\b\b\b\b\b\b\b\b\b\b\b\b\b\b\b\b\b\b\b\b\b\b\b\b\b\b\b\b\b\b\b\b\b\b\b\b\b\b\b\b\b\b\b\b\b\b\b\b\b\b\b\b\b\b\b\b\b\b\b\b\b\b\b\b\b\b\b\b\r750/750 [==============================] - 425s 567ms/step - loss: 0.4335 - mae: 0.2940 - val_loss: 0.4315 - val_mae: 0.2946 - lr: 2.0000e-04\n",
            "Epoch 6/17\n",
            "750/750 [==============================] - ETA: 0s - loss: 0.4262 - mae: 0.2895"
          ]
        },
        {
          "output_type": "stream",
          "name": "stderr",
          "text": [
            "WARNING:absl:Function `_wrapped_model` contains input name(s) ImageA_Input, ImageB_Input with unsupported characters which will be renamed to imagea_input, imageb_input in the SavedModel.\n"
          ]
        },
        {
          "output_type": "stream",
          "name": "stdout",
          "text": [
            "INFO:tensorflow:Assets written to: /content/drive/MyDrive/Classroom/similarity_model/assets\n"
          ]
        },
        {
          "output_type": "stream",
          "name": "stderr",
          "text": [
            "INFO:tensorflow:Assets written to: /content/drive/MyDrive/Classroom/similarity_model/assets\n"
          ]
        },
        {
          "output_type": "stream",
          "name": "stdout",
          "text": [
            "\b\b\b\b\b\b\b\b\b\b\b\b\b\b\b\b\b\b\b\b\b\b\b\b\b\b\b\b\b\b\b\b\b\b\b\b\b\b\b\b\b\b\b\b\b\b\b\b\b\b\b\b\b\b\b\b\b\b\b\b\b\b\b\b\b\b\b\b\b\b\b\b\b\b\b\b\b\b\b\r750/750 [==============================] - 435s 580ms/step - loss: 0.4262 - mae: 0.2895 - val_loss: 0.4248 - val_mae: 0.2844 - lr: 2.0000e-04\n",
            "Epoch 7/17\n",
            "750/750 [==============================] - ETA: 0s - loss: 0.3850 - mae: 0.2606"
          ]
        },
        {
          "output_type": "stream",
          "name": "stderr",
          "text": [
            "WARNING:absl:Function `_wrapped_model` contains input name(s) ImageA_Input, ImageB_Input with unsupported characters which will be renamed to imagea_input, imageb_input in the SavedModel.\n"
          ]
        },
        {
          "output_type": "stream",
          "name": "stdout",
          "text": [
            "INFO:tensorflow:Assets written to: /content/drive/MyDrive/Classroom/similarity_model/assets\n"
          ]
        },
        {
          "output_type": "stream",
          "name": "stderr",
          "text": [
            "INFO:tensorflow:Assets written to: /content/drive/MyDrive/Classroom/similarity_model/assets\n"
          ]
        },
        {
          "output_type": "stream",
          "name": "stdout",
          "text": [
            "\b\b\b\b\b\b\b\b\b\b\b\b\b\b\b\b\b\b\b\b\b\b\b\b\b\b\b\b\b\b\b\b\b\b\b\b\b\b\b\b\b\b\b\b\b\b\b\b\b\b\b\b\b\b\b\b\b\b\b\b\b\b\b\b\b\b\b\b\b\b\b\b\b\b\b\b\b\b\b\r750/750 [==============================] - 438s 584ms/step - loss: 0.3850 - mae: 0.2606 - val_loss: 0.3311 - val_mae: 0.2183 - lr: 2.0000e-04\n",
            "Epoch 8/17\n",
            "750/750 [==============================] - ETA: 0s - loss: 0.3214 - mae: 0.2118"
          ]
        },
        {
          "output_type": "stream",
          "name": "stderr",
          "text": [
            "WARNING:absl:Function `_wrapped_model` contains input name(s) ImageA_Input, ImageB_Input with unsupported characters which will be renamed to imagea_input, imageb_input in the SavedModel.\n"
          ]
        },
        {
          "output_type": "stream",
          "name": "stdout",
          "text": [
            "INFO:tensorflow:Assets written to: /content/drive/MyDrive/Classroom/similarity_model/assets\n"
          ]
        },
        {
          "output_type": "stream",
          "name": "stderr",
          "text": [
            "INFO:tensorflow:Assets written to: /content/drive/MyDrive/Classroom/similarity_model/assets\n"
          ]
        },
        {
          "output_type": "stream",
          "name": "stdout",
          "text": [
            "\b\b\b\b\b\b\b\b\b\b\b\b\b\b\b\b\b\b\b\b\b\b\b\b\b\b\b\b\b\b\b\b\b\b\b\b\b\b\b\b\b\b\b\b\b\b\b\b\b\b\b\b\b\b\b\b\b\b\b\b\b\b\b\b\b\b\b\b\b\b\b\b\b\b\b\b\b\b\b\r750/750 [==============================] - 452s 602ms/step - loss: 0.3214 - mae: 0.2118 - val_loss: 0.3051 - val_mae: 0.1958 - lr: 2.0000e-04\n",
            "Epoch 9/17\n",
            "750/750 [==============================] - 390s 521ms/step - loss: 0.3013 - mae: 0.1947 - val_loss: 0.4278 - val_mae: 0.2141 - lr: 2.0000e-04\n",
            "Epoch 10/17\n",
            "750/750 [==============================] - ETA: 0s - loss: 0.2808 - mae: 0.1812"
          ]
        },
        {
          "output_type": "stream",
          "name": "stderr",
          "text": [
            "WARNING:absl:Function `_wrapped_model` contains input name(s) ImageA_Input, ImageB_Input with unsupported characters which will be renamed to imagea_input, imageb_input in the SavedModel.\n"
          ]
        },
        {
          "output_type": "stream",
          "name": "stdout",
          "text": [
            "INFO:tensorflow:Assets written to: /content/drive/MyDrive/Classroom/similarity_model/assets\n"
          ]
        },
        {
          "output_type": "stream",
          "name": "stderr",
          "text": [
            "INFO:tensorflow:Assets written to: /content/drive/MyDrive/Classroom/similarity_model/assets\n"
          ]
        },
        {
          "output_type": "stream",
          "name": "stdout",
          "text": [
            "\b\b\b\b\b\b\b\b\b\b\b\b\b\b\b\b\b\b\b\b\b\b\b\b\b\b\b\b\b\b\b\b\b\b\b\b\b\b\b\b\b\b\b\b\b\b\b\b\b\b\b\b\b\b\b\b\b\b\b\b\b\b\b\b\b\b\b\b\b\b\b\b\b\b\b\b\b\b\b\r750/750 [==============================] - 442s 589ms/step - loss: 0.2808 - mae: 0.1812 - val_loss: 0.2839 - val_mae: 0.1761 - lr: 1.0000e-04\n",
            "Epoch 11/17\n",
            "750/750 [==============================] - ETA: 0s - loss: 0.2719 - mae: 0.1743"
          ]
        },
        {
          "output_type": "stream",
          "name": "stderr",
          "text": [
            "WARNING:absl:Function `_wrapped_model` contains input name(s) ImageA_Input, ImageB_Input with unsupported characters which will be renamed to imagea_input, imageb_input in the SavedModel.\n"
          ]
        },
        {
          "output_type": "stream",
          "name": "stdout",
          "text": [
            "INFO:tensorflow:Assets written to: /content/drive/MyDrive/Classroom/similarity_model/assets\n"
          ]
        },
        {
          "output_type": "stream",
          "name": "stderr",
          "text": [
            "INFO:tensorflow:Assets written to: /content/drive/MyDrive/Classroom/similarity_model/assets\n"
          ]
        },
        {
          "output_type": "stream",
          "name": "stdout",
          "text": [
            "\b\b\b\b\b\b\b\b\b\b\b\b\b\b\b\b\b\b\b\b\b\b\b\b\b\b\b\b\b\b\b\b\b\b\b\b\b\b\b\b\b\b\b\b\b\b\b\b\b\b\b\b\b\b\b\b\b\b\b\b\b\b\b\b\b\b\b\b\b\b\b\b\b\b\b\b\b\b\b\r750/750 [==============================] - 446s 595ms/step - loss: 0.2719 - mae: 0.1743 - val_loss: 0.2696 - val_mae: 0.1674 - lr: 1.0000e-04\n",
            "Epoch 12/17\n",
            "750/750 [==============================] - ETA: 0s - loss: 0.2633 - mae: 0.1676"
          ]
        },
        {
          "output_type": "stream",
          "name": "stderr",
          "text": [
            "WARNING:absl:Function `_wrapped_model` contains input name(s) ImageA_Input, ImageB_Input with unsupported characters which will be renamed to imagea_input, imageb_input in the SavedModel.\n"
          ]
        },
        {
          "output_type": "stream",
          "name": "stdout",
          "text": [
            "INFO:tensorflow:Assets written to: /content/drive/MyDrive/Classroom/similarity_model/assets\n"
          ]
        },
        {
          "output_type": "stream",
          "name": "stderr",
          "text": [
            "INFO:tensorflow:Assets written to: /content/drive/MyDrive/Classroom/similarity_model/assets\n"
          ]
        },
        {
          "output_type": "stream",
          "name": "stdout",
          "text": [
            "\b\b\b\b\b\b\b\b\b\b\b\b\b\b\b\b\b\b\b\b\b\b\b\b\b\b\b\b\b\b\b\b\b\b\b\b\b\b\b\b\b\b\b\b\b\b\b\b\b\b\b\b\b\b\b\b\b\b\b\b\b\b\b\b\b\b\b\b\b\b\b\b\b\b\b\b\b\b\b\r750/750 [==============================] - 458s 611ms/step - loss: 0.2633 - mae: 0.1676 - val_loss: 0.2652 - val_mae: 0.1668 - lr: 1.0000e-04\n",
            "Epoch 13/17\n",
            "750/750 [==============================] - 407s 542ms/step - loss: 0.2544 - mae: 0.1613 - val_loss: 0.2742 - val_mae: 0.1651 - lr: 1.0000e-04\n",
            "Epoch 14/17\n",
            "750/750 [==============================] - 399s 533ms/step - loss: 0.2445 - mae: 0.1536 - val_loss: 0.2798 - val_mae: 0.1620 - lr: 1.0000e-04\n",
            "Epoch 15/17\n",
            "750/750 [==============================] - ETA: 0s - loss: 0.2374 - mae: 0.1495"
          ]
        },
        {
          "output_type": "stream",
          "name": "stderr",
          "text": [
            "WARNING:absl:Function `_wrapped_model` contains input name(s) ImageA_Input, ImageB_Input with unsupported characters which will be renamed to imagea_input, imageb_input in the SavedModel.\n"
          ]
        },
        {
          "output_type": "stream",
          "name": "stdout",
          "text": [
            "INFO:tensorflow:Assets written to: /content/drive/MyDrive/Classroom/similarity_model/assets\n"
          ]
        },
        {
          "output_type": "stream",
          "name": "stderr",
          "text": [
            "INFO:tensorflow:Assets written to: /content/drive/MyDrive/Classroom/similarity_model/assets\n"
          ]
        },
        {
          "output_type": "stream",
          "name": "stdout",
          "text": [
            "\b\b\b\b\b\b\b\b\b\b\b\b\b\b\b\b\b\b\b\b\b\b\b\b\b\b\b\b\b\b\b\b\b\b\b\b\b\b\b\b\b\b\b\b\b\b\b\b\b\b\b\b\b\b\b\b\b\b\b\b\b\b\b\b\b\b\b\b\b\b\b\b\b\b\b\b\b\b\b\r750/750 [==============================] - 461s 614ms/step - loss: 0.2374 - mae: 0.1495 - val_loss: 0.2594 - val_mae: 0.1549 - lr: 1.0000e-04\n",
            "Epoch 16/17\n",
            "750/750 [==============================] - 402s 536ms/step - loss: 0.2286 - mae: 0.1430 - val_loss: 0.2621 - val_mae: 0.1489 - lr: 1.0000e-04\n",
            "Epoch 17/17\n",
            "750/750 [==============================] - ETA: 0s - loss: 0.2234 - mae: 0.1389"
          ]
        },
        {
          "output_type": "stream",
          "name": "stderr",
          "text": [
            "WARNING:absl:Function `_wrapped_model` contains input name(s) ImageA_Input, ImageB_Input with unsupported characters which will be renamed to imagea_input, imageb_input in the SavedModel.\n"
          ]
        },
        {
          "output_type": "stream",
          "name": "stdout",
          "text": [
            "INFO:tensorflow:Assets written to: /content/drive/MyDrive/Classroom/similarity_model/assets\n"
          ]
        },
        {
          "output_type": "stream",
          "name": "stderr",
          "text": [
            "INFO:tensorflow:Assets written to: /content/drive/MyDrive/Classroom/similarity_model/assets\n"
          ]
        },
        {
          "output_type": "stream",
          "name": "stdout",
          "text": [
            "\b\b\b\b\b\b\b\b\b\b\b\b\b\b\b\b\b\b\b\b\b\b\b\b\b\b\b\b\b\b\b\b\b\b\b\b\b\b\b\b\b\b\b\b\b\b\b\b\b\b\b\b\b\b\b\b\b\b\b\b\b\b\b\b\b\b\b\b\b\b\b\b\b\b\b\b\b\b\b\r750/750 [==============================] - 452s 603ms/step - loss: 0.2234 - mae: 0.1389 - val_loss: 0.2469 - val_mae: 0.1460 - lr: 1.0000e-04\n"
          ]
        }
      ],
      "source": [
        "history = similarity_model.fit([x_tra[:,0], x_tra[:, 1]], y_tra, epochs=EPOCH, batch_size=BS, \n",
        "                    validation_data=([x_val[:, 0], x_val[:, 1]], y_val), callbacks=[early_stopping, save_model, reduce_lr])"
      ]
    },
    {
      "cell_type": "code",
      "execution_count": 17,
      "metadata": {
        "colab": {
          "base_uri": "https://localhost:8080/",
          "height": 281
        },
        "id": "GXvd7RWsHRhI",
        "outputId": "ccda0989-8a99-4af4-8ad5-b3147c65264e"
      },
      "outputs": [
        {
          "output_type": "display_data",
          "data": {
            "text/plain": [
              "<Figure size 432x288 with 1 Axes>"
            ],
            "image/png": "[encoded data removed]"
          },
          "metadata": {
            "needs_background": "light"
          }
        }
      ],
      "source": [
        "import matplotlib.pyplot as plt\n",
        "\n",
        "\n",
        "def plot_history(history):\n",
        "    plt.title('Train/validation loss')\n",
        "    plt.plot(history.history['loss'], label = 'training loss')\n",
        "    plt.plot(history.history['val_loss'], label = 'validation loss')\n",
        "    plt.grid()\n",
        "    plt.legend()\n",
        "    plt.ylim(0,1)\n",
        "    plt.show()\n",
        "\n",
        "plot_history(history)"
      ]
    },
    {
      "cell_type": "code",
      "execution_count": 141,
      "metadata": {
        "id": "sbyCEABMGDwV",
        "colab": {
          "base_uri": "https://localhost:8080/",
          "height": 412
        },
        "outputId": "6c1aa1e0-2686-42d7-e29d-553add6f8cf4"
      },
      "outputs": [
        {
          "output_type": "stream",
          "name": "stderr",
          "text": [
            "/usr/local/lib/python3.7/dist-packages/tensorflow/python/data/ops/structured_function.py:265: UserWarning: Even though the `tf.config.experimental_run_functions_eagerly` option is set, this option does not apply to tf.data functions. To force eager execution of tf.data functions, please use `tf.data.experimental.enable_debug_mode()`.\n",
            "  \"Even though the `tf.config.experimental_run_functions_eagerly` \"\n"
          ]
        },
        {
          "output_type": "display_data",
          "data": {
            "text/plain": [
              "<Figure size 864x432 with 10 Axes>"
            ],
            "image/png": "[encoded data removed]"
          },
          "metadata": {
            "needs_background": "light"
          }
        }
      ],
      "source": [
        "def show_model_output(nb_examples = 3):\n",
        "    pv_a, pv_b, pv_sim  = te_pairs[:nb_examples, 0], te_pairs[:nb_examples, 1], te_y[:nb_examples]\n",
        "\n",
        "    pred_sim = similarity_model.predict([pv_a, pv_b])\n",
        "    fig, m_axs = plt.subplots(2, pv_a.shape[0], figsize = (12, 6))\n",
        "    for c_a, c_b, c_d, p_d, (ax1, ax2) in zip(pv_a, pv_b, pv_sim, pred_sim, m_axs.T):\n",
        "\n",
        "        ax1.imshow(c_a)\n",
        "        ax1.set_title('Image A\\n Actual: %3.0f%%' % (100*c_d))\n",
        "        ax1.axis('off')\n",
        "        ax2.imshow(c_b)\n",
        "        ax2.set_title('Image B\\n Predicted: %3.0f%%' % (100*p_d))\n",
        "        ax2.axis('off')\n",
        "    return fig\n",
        "    # a completely untrained model\n",
        "_ = show_model_output(5)"
      ]
    },
    {
      "cell_type": "markdown",
      "source": [
        "# Function for similar images search"
      ],
      "metadata": {
        "id": "O-HXKtAMFxQU"
      }
    },
    {
      "cell_type": "code",
      "source": [
        "def find_similar(image, images, count=3, threshold=50):\n",
        "    pv_a, pv_b = np.reshape([image]*len(images), (len(images), 28,28)), np.reshape(images, (len(images), 28,28))\n",
        "    pred_sim = similarity_model.predict([pv_a, pv_b]).ravel()\n",
        "    indxs = np.argsort(pred_sim)[::-1][:count]\n",
        "    \n",
        "    fig, m_axs = plt.subplots(2, count, figsize = (12, 6))\n",
        "    i = 0\n",
        "    for c_a, (ax1, ax2) in zip(pv_a[:count], m_axs.T):\n",
        "        \n",
        "        ax1.imshow(c_a)\n",
        "        ax1.set_title('Input image\\n')\n",
        "        ax1.axis('off')\n",
        "        ax2.imshow(pv_b[indxs[i]])\n",
        "        ax2.set_title('Similar\\n Predicted: %3.0f%%' % (100*pred_sim[indxs[i]]))\n",
        "        ax2.axis('off')\n",
        "        i += 1\n"
      ],
      "metadata": {
        "id": "FiZlPD1w4vI7"
      },
      "execution_count": 138,
      "outputs": []
    },
    {
      "cell_type": "code",
      "source": [
        "find_similar(test_images[1], images=test_images[1:50])"
      ],
      "metadata": {
        "colab": {
          "base_uri": "https://localhost:8080/",
          "height": 444
        },
        "id": "dAQovvym7pI3",
        "outputId": "11ed4bd9-4d74-489e-88e1-23ee6c693cef"
      },
      "execution_count": 140,
      "outputs": [
        {
          "output_type": "stream",
          "name": "stderr",
          "text": [
            "/usr/local/lib/python3.7/dist-packages/tensorflow/python/data/ops/structured_function.py:265: UserWarning: Even though the `tf.config.experimental_run_functions_eagerly` option is set, this option does not apply to tf.data functions. To force eager execution of tf.data functions, please use `tf.data.experimental.enable_debug_mode()`.\n",
            "  \"Even though the `tf.config.experimental_run_functions_eagerly` \"\n"
          ]
        },
        {
          "output_type": "display_data",
          "data": {
            "text/plain": [
              "<Figure size 864x432 with 6 Axes>"
            ],
            "image/png": "[encoded data removed]"
          },
          "metadata": {
            "needs_background": "light"
          }
        }
      ]
    },
    {
      "cell_type": "markdown",
      "source": [
        "# t-SNE"
      ],
      "metadata": {
        "id": "fB7UcKyVF61k"
      }
    },
    {
      "cell_type": "code",
      "execution_count": 53,
      "metadata": {
        "id": "lK9GlCQsXkLp",
        "colab": {
          "base_uri": "https://localhost:8080/"
        },
        "outputId": "bc52390b-2582-4499-d91f-dfee00ce6a5f"
      },
      "outputs": [
        {
          "output_type": "stream",
          "name": "stdout",
          "text": [
            "\r 1/79 [..............................] - ETA: 7s"
          ]
        },
        {
          "output_type": "stream",
          "name": "stderr",
          "text": [
            "/usr/local/lib/python3.7/dist-packages/tensorflow/python/data/ops/structured_function.py:265: UserWarning: Even though the `tf.config.experimental_run_functions_eagerly` option is set, this option does not apply to tf.data functions. To force eager execution of tf.data functions, please use `tf.data.experimental.enable_debug_mode()`.\n",
            "  \"Even though the `tf.config.experimental_run_functions_eagerly` \"\n"
          ]
        },
        {
          "output_type": "stream",
          "name": "stdout",
          "text": [
            "79/79 [==============================] - 10s 132ms/step\n"
          ]
        }
      ],
      "source": [
        "x_test_features = feature_model.predict(test_images, verbose = True,batch_size=BS)"
      ]
    },
    {
      "cell_type": "code",
      "execution_count": 54,
      "metadata": {
        "id": "VTUzONgWXqpV",
        "colab": {
          "base_uri": "https://localhost:8080/"
        },
        "outputId": "7e7600d8-2fbe-4e5b-926d-ad10ac4af2e4"
      },
      "outputs": [
        {
          "output_type": "stream",
          "name": "stderr",
          "text": [
            "/usr/local/lib/python3.7/dist-packages/sklearn/manifold/_t_sne.py:793: FutureWarning: The default learning rate in TSNE will change from 200.0 to 'auto' in 1.2.\n",
            "  FutureWarning,\n"
          ]
        },
        {
          "output_type": "stream",
          "name": "stdout",
          "text": [
            "[t-SNE] Computing 91 nearest neighbors...\n",
            "[t-SNE] Indexed 10000 samples in 0.013s...\n",
            "[t-SNE] Computed neighbors for 10000 samples in 0.273s...\n",
            "[t-SNE] Computed conditional probabilities for sample 1000 / 10000\n",
            "[t-SNE] Computed conditional probabilities for sample 2000 / 10000\n",
            "[t-SNE] Computed conditional probabilities for sample 3000 / 10000\n",
            "[t-SNE] Computed conditional probabilities for sample 4000 / 10000\n",
            "[t-SNE] Computed conditional probabilities for sample 5000 / 10000\n",
            "[t-SNE] Computed conditional probabilities for sample 6000 / 10000\n",
            "[t-SNE] Computed conditional probabilities for sample 7000 / 10000\n",
            "[t-SNE] Computed conditional probabilities for sample 8000 / 10000\n",
            "[t-SNE] Computed conditional probabilities for sample 9000 / 10000\n",
            "[t-SNE] Computed conditional probabilities for sample 10000 / 10000\n",
            "[t-SNE] Mean sigma: 0.000000\n",
            "[t-SNE] Computed conditional probabilities in 1.044s\n"
          ]
        },
        {
          "output_type": "stream",
          "name": "stderr",
          "text": [
            "/usr/local/lib/python3.7/dist-packages/sklearn/manifold/_t_sne.py:986: FutureWarning: The PCA initialization in TSNE will change to have the standard deviation of PC1 equal to 1e-4 in 1.2. This will ensure better convergence.\n",
            "  FutureWarning,\n"
          ]
        },
        {
          "output_type": "stream",
          "name": "stdout",
          "text": [
            "[t-SNE] Iteration 50: error = 75.1425018, gradient norm = 0.0123036 (50 iterations in 4.267s)\n",
            "[t-SNE] Iteration 100: error = 68.7188263, gradient norm = 0.0051201 (50 iterations in 3.759s)\n",
            "[t-SNE] Iteration 150: error = 65.9603195, gradient norm = 0.0063881 (50 iterations in 3.686s)\n",
            "[t-SNE] Iteration 200: error = 64.4113159, gradient norm = 0.0075017 (50 iterations in 3.618s)\n",
            "[t-SNE] Iteration 250: error = 63.3854103, gradient norm = 0.0121035 (50 iterations in 3.682s)\n",
            "[t-SNE] KL divergence after 250 iterations with early exaggeration: 63.385410\n",
            "[t-SNE] Iteration 300: error = 2.0394936, gradient norm = 0.0012510 (50 iterations in 3.840s)\n",
            "[t-SNE] Iteration 350: error = 1.5056880, gradient norm = 0.0006162 (50 iterations in 3.815s)\n",
            "[t-SNE] Iteration 400: error = 1.2174966, gradient norm = 0.0003768 (50 iterations in 3.833s)\n",
            "[t-SNE] Iteration 450: error = 1.0467851, gradient norm = 0.0002575 (50 iterations in 3.759s)\n",
            "[t-SNE] Iteration 500: error = 0.9361275, gradient norm = 0.0001907 (50 iterations in 3.797s)\n",
            "[t-SNE] KL divergence after 500 iterations: 0.936128\n",
            "CPU times: user 1min 9s, sys: 528 ms, total: 1min 9s\n",
            "Wall time: 39.7 s\n"
          ]
        }
      ],
      "source": [
        "%%time\n",
        "from sklearn.manifold import TSNE\n",
        "tsne_obj = TSNE(n_components=2,\n",
        "                init='pca',\n",
        "                random_state=101,\n",
        "                method='barnes_hut',\n",
        "                n_iter=500,\n",
        "                verbose=2)\n",
        "tsne_features = tsne_obj.fit_transform(x_test_features)"
      ]
    },
    {
      "cell_type": "code",
      "source": [
        "obj_categories = ['T-shirt/top','Trouser','Pullover','Dress',\n",
        "'Coat','Sandal','Shirt','Sneaker','Bag','Ankle boot'\n",
        "]\n",
        "colors = plt.cm.rainbow(np.linspace(0, 1, 10))\n",
        "plt.figure(figsize=(10, 10))"
      ],
      "metadata": {
        "colab": {
          "base_uri": "https://localhost:8080/",
          "height": 54
        },
        "id": "tyPtvuQX15gM",
        "outputId": "61070e0d-fa1f-4bc0-c0e0-c823220e82d7"
      },
      "execution_count": 55,
      "outputs": [
        {
          "output_type": "execute_result",
          "data": {
            "text/plain": [
              "<Figure size 720x720 with 0 Axes>"
            ]
          },
          "metadata": {},
          "execution_count": 55
        },
        {
          "output_type": "display_data",
          "data": {
            "text/plain": [
              "<Figure size 720x720 with 0 Axes>"
            ]
          },
          "metadata": {}
        }
      ]
    },
    {
      "cell_type": "code",
      "source": [
        "for c_group, (c_color, c_label) in enumerate(zip(colors, obj_categories)):\n",
        "    plt.scatter(tsne_features[np.where(test_labels == c_group), 0],\n",
        "    tsne_features[np.where(test_labels == c_group), 1],\n",
        "    marker='o',\n",
        "    color=c_color,\n",
        "    linewidth='1',\n",
        "    alpha=0.8,\n",
        "    label=c_label)\n",
        "plt.xlabel('Dimension 1')\n",
        "plt.ylabel('Dimension 2')\n",
        "plt.title('t-SNE on Testing Samples')\n",
        "plt.legend(loc='best')\n",
        "plt.savefig('clothes-dist.png')\n",
        "plt.show(block=False)"
      ],
      "metadata": {
        "colab": {
          "base_uri": "https://localhost:8080/",
          "height": 294
        },
        "id": "xedgN1q_2WUK",
        "outputId": "2e9de9e4-755c-4740-8047-d4893ab9dbf6"
      },
      "execution_count": 59,
      "outputs": [
        {
          "output_type": "display_data",
          "data": {
            "text/plain": [
              "<Figure size 432x288 with 1 Axes>"
            ],
            "image/png": "[encoded data removed]"
          },
          "metadata": {
            "needs_background": "light"
          }
        }
      ]
    },
    {
      "cell_type": "code",
      "source": [
        ""
      ],
      "metadata": {
        "id": "jRiCxEoJ2aCk"
      },
      "execution_count": null,
      "outputs": []
    }
  ],
  "metadata": {
    "accelerator": "GPU",
    "colab": {
      "collapsed_sections": [],
      "name": "LabCV3.ipynb",
      "provenance": [],
      "toc_visible": true
    },
    "kernelspec": {
      "display_name": "Python 3",
      "name": "python3"
    },
    "language_info": {
      "name": "python"
    }
  },
  "nbformat": 4,
  "nbformat_minor": 0
}